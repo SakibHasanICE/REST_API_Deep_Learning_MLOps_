{
 "cells": [
  {
   "cell_type": "markdown",
   "id": "99eaef4b",
   "metadata": {},
   "source": [
    "## compare runs choose a model and deploy it to a rest api\n"
   ]
  },
  {
   "cell_type": "markdown",
   "id": "399ba446",
   "metadata": {},
   "source": [
    "# Process:\n",
    "- run a hyperameter sweep on a training script\n",
    "- compare the results of thr runs in the mlflow ui\n",
    "- choose the best run and register it as a model\n",
    "- deploy the model to a rest api\n",
    "- build a container inmage suitable for deployment to a cloud platform"
   ]
  },
  {
   "cell_type": "markdown",
   "id": "166b7585",
   "metadata": {},
   "source": [
    "import keras\n",
    "import pandas as pd\n",
    "from h"
   ]
  }
 ],
 "metadata": {
  "language_info": {
   "name": "python"
  }
 },
 "nbformat": 4,
 "nbformat_minor": 5
}
